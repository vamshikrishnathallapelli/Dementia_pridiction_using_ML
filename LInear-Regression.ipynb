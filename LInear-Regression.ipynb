{
  "cells": [
    {
      "cell_type": "code",
      "execution_count": 3,
      "id": "f79cece7",
      "metadata": {
        "id": "f79cece7"
      },
      "outputs": [
        {
          "ename": "ModuleNotFoundError",
          "evalue": "No module named 'pandas'",
          "output_type": "error",
          "traceback": [
            "\u001b[1;31m---------------------------------------------------------------------------\u001b[0m",
            "\u001b[1;31mModuleNotFoundError\u001b[0m                       Traceback (most recent call last)",
            "Cell \u001b[1;32mIn[3], line 1\u001b[0m\n\u001b[1;32m----> 1\u001b[0m \u001b[38;5;28;01mimport\u001b[39;00m \u001b[38;5;21;01mpandas\u001b[39;00m \u001b[38;5;28;01mas\u001b[39;00m \u001b[38;5;21;01mpd\u001b[39;00m\n\u001b[0;32m      2\u001b[0m \u001b[38;5;28;01mimport\u001b[39;00m \u001b[38;5;21;01mnumpy\u001b[39;00m \u001b[38;5;28;01mas\u001b[39;00m \u001b[38;5;21;01mnp\u001b[39;00m\n\u001b[0;32m      3\u001b[0m \u001b[38;5;28;01mfrom\u001b[39;00m \u001b[38;5;21;01msklearn\u001b[39;00m\u001b[38;5;21;01m.\u001b[39;00m\u001b[38;5;21;01mpreprocessing\u001b[39;00m \u001b[38;5;28;01mimport\u001b[39;00m LabelEncoder\n",
            "\u001b[1;31mModuleNotFoundError\u001b[0m: No module named 'pandas'"
          ]
        }
      ],
      "source": [
        "\n",
        "import pandas as pd\n",
        "import numpy as np\n",
        "from sklearn.preprocessing import LabelEncoder\n",
        "import seaborn as sns\n",
        "import matplotlib.pyplot as plt\n",
        "from sklearn.preprocessing import StandardScaler\n",
        "from sklearn.model_selection import train_test_split\n",
        "from sklearn.linear_model import LinearRegression\n",
        "from sklearn.metrics import mean_squared_error\n",
        "from sklearn.model_selection import train_test_split\n",
        "from sklearn.tree import DecisionTreeClassifier, plot_tree\n",
        "from sklearn.metrics import accuracy_score, classification_report\n",
        "import matplotlib.pyplot as plt\n",
        "from sklearn.metrics import confusion_matrix\n",
        "import matplotlib.pyplot as plt\n",
        "\n",
        "from sklearn.tree import plot_tree\n",
        "from sklearn.tree import DecisionTreeClassifier\n",
        "from sklearn.model_selection import train_test_split\n",
        "from sklearn.metrics import accuracy_score, classification_report"
      ]
    },
    {
      "cell_type": "code",
      "execution_count": null,
      "id": "d0c217df",
      "metadata": {},
      "outputs": [],
      "source": []
    },
    {
      "cell_type": "code",
      "execution_count": null,
      "id": "301fd212",
      "metadata": {
        "id": "301fd212"
      },
      "outputs": [],
      "source": [
        "file_path = 'oasis_cross-sectional (1).csv'\n",
        "\n",
        "df = pd.read_csv(file_path)"
      ]
    },
    {
      "cell_type": "code",
      "execution_count": null,
      "id": "83255458",
      "metadata": {
        "colab": {
          "base_uri": "https://localhost:8080/",
          "height": 676
        },
        "id": "83255458",
        "outputId": "bf0fa510-7666-4929-ad46-6f396e6591a7"
      },
      "outputs": [],
      "source": [
        "df.head(20)"
      ]
    },
    {
      "cell_type": "code",
      "execution_count": null,
      "id": "e0c82940",
      "metadata": {
        "colab": {
          "base_uri": "https://localhost:8080/"
        },
        "id": "e0c82940",
        "outputId": "b541ac01-8287-4d25-d2e0-959d1b1df4ff"
      },
      "outputs": [],
      "source": [
        "df.info"
      ]
    },
    {
      "cell_type": "code",
      "execution_count": null,
      "id": "e6fd9a83",
      "metadata": {
        "colab": {
          "base_uri": "https://localhost:8080/",
          "height": 300
        },
        "id": "e6fd9a83",
        "outputId": "b9dc071a-3e1f-475a-e8e3-f04b7cc0b76e"
      },
      "outputs": [],
      "source": [
        "df.describe()"
      ]
    },
    {
      "cell_type": "code",
      "execution_count": null,
      "id": "35d0fafd",
      "metadata": {
        "colab": {
          "base_uri": "https://localhost:8080/"
        },
        "id": "35d0fafd",
        "outputId": "db35e17e-21c3-4eea-97a9-080c8a1efeae"
      },
      "outputs": [],
      "source": [
        "df.info"
      ]
    },
    {
      "cell_type": "code",
      "execution_count": null,
      "id": "f3f195c0",
      "metadata": {
        "colab": {
          "base_uri": "https://localhost:8080/"
        },
        "id": "f3f195c0",
        "outputId": "464a2278-60b0-4e44-a9da-8f528837904c"
      },
      "outputs": [],
      "source": [
        "print(df)"
      ]
    },
    {
      "cell_type": "code",
      "execution_count": null,
      "id": "c1e28813",
      "metadata": {
        "colab": {
          "base_uri": "https://localhost:8080/"
        },
        "id": "c1e28813",
        "outputId": "45a0396c-4442-4e0a-b493-8832d8987cb3"
      },
      "outputs": [],
      "source": [
        "print(df.isnull().sum())"
      ]
    },
    {
      "cell_type": "code",
      "execution_count": null,
      "id": "850b552c",
      "metadata": {
        "id": "850b552c"
      },
      "outputs": [],
      "source": [
        "\n",
        "df = df.dropna(subset=['Educ', 'SES','MMSE','CDR'])"
      ]
    },
    {
      "cell_type": "code",
      "execution_count": null,
      "id": "4c94f938",
      "metadata": {
        "colab": {
          "base_uri": "https://localhost:8080/"
        },
        "id": "4c94f938",
        "outputId": "8134c3a4-2755-43be-a90b-0b752b655397"
      },
      "outputs": [],
      "source": [
        "print(df)"
      ]
    },
    {
      "cell_type": "code",
      "execution_count": null,
      "id": "4cadb763",
      "metadata": {
        "id": "4cadb763"
      },
      "outputs": [],
      "source": [
        "df = df.drop('Delay', axis=1)"
      ]
    },
    {
      "cell_type": "code",
      "execution_count": null,
      "id": "18394171",
      "metadata": {
        "id": "18394171"
      },
      "outputs": [],
      "source": [
        "df= df.drop('ID', axis=1)\n",
        "df= df.drop('Hand', axis=1)\n",
        "df= df.drop('M/F', axis=1)"
      ]
    },
    {
      "cell_type": "code",
      "execution_count": null,
      "id": "3c1d7d8b",
      "metadata": {
        "id": "3c1d7d8b"
      },
      "outputs": [],
      "source": [
        "df21=df"
      ]
    },
    {
      "cell_type": "code",
      "execution_count": null,
      "id": "1c46bf5e",
      "metadata": {
        "colab": {
          "base_uri": "https://localhost:8080/"
        },
        "id": "1c46bf5e",
        "outputId": "0650ab89-0dab-440f-ac9e-fd507b708d22"
      },
      "outputs": [],
      "source": [
        "print(df)"
      ]
    },
    {
      "cell_type": "code",
      "execution_count": null,
      "id": "6b8acaa5",
      "metadata": {
        "colab": {
          "base_uri": "https://localhost:8080/"
        },
        "id": "6b8acaa5",
        "outputId": "f96d7558-1815-43cd-cfe8-2307e2cff1e0"
      },
      "outputs": [],
      "source": [
        "import pandas as pd\n",
        "\n",
        "\n",
        "correlation_of_matrix = df.corr()\n",
        "\n",
        "\n",
        "print(correlation_of_matrix)"
      ]
    },
    {
      "cell_type": "code",
      "execution_count": null,
      "id": "8bf5f58f",
      "metadata": {
        "colab": {
          "base_uri": "https://localhost:8080/",
          "height": 699
        },
        "id": "8bf5f58f",
        "outputId": "ed2d9897-670f-4e3f-9fde-27be5877f18d"
      },
      "outputs": [],
      "source": [
        "\n",
        "\n",
        "plt.figure(figsize=(10, 8))\n",
        "sns.heatmap(correlation_of_matrix, annot=True, cmap='coolwarm', linewidths=.5)\n",
        "plt.title('Correlation_of_Matrix')\n",
        "plt.show()"
      ]
    },
    {
      "cell_type": "markdown",
      "id": "9ec7c23c",
      "metadata": {
        "id": "9ec7c23c"
      },
      "source": [
        "# Standardization"
      ]
    },
    {
      "cell_type": "code",
      "execution_count": null,
      "id": "bee83882",
      "metadata": {
        "colab": {
          "base_uri": "https://localhost:8080/"
        },
        "id": "bee83882",
        "outputId": "7072efc8-8dc9-44df-c674-1ce3348a09d0"
      },
      "outputs": [],
      "source": [
        "print(df)"
      ]
    },
    {
      "cell_type": "code",
      "execution_count": null,
      "id": "36240a40",
      "metadata": {
        "id": "36240a40"
      },
      "outputs": [],
      "source": [
        "# #import pandas as pd\n",
        "# #from sklearn.preprocessing import StandardScaler\n",
        "\n",
        "# columns_to_standardize = ['Age', 'Educ', 'SES', 'MMSE', 'eTIV', 'nWBV', 'ASF']\n",
        "\n",
        "# # Create a object for StandardScaler\n",
        "# scaler = StandardScaler()\n",
        "\n",
        "# # Standardize the selected columns\n",
        "# df[columns_to_standardize] = scaler.fit_transform(df[columns_to_standardize])"
      ]
    },
    {
      "cell_type": "code",
      "execution_count": null,
      "id": "85cd27c5",
      "metadata": {
        "colab": {
          "base_uri": "https://localhost:8080/"
        },
        "id": "85cd27c5",
        "outputId": "439b086f-ed23-4328-8623-8b5188854a62"
      },
      "outputs": [],
      "source": [
        "print(df)"
      ]
    },
    {
      "cell_type": "code",
      "execution_count": null,
      "id": "35a48200",
      "metadata": {
        "id": "35a48200"
      },
      "outputs": [],
      "source": [
        "\n",
        "correlation_of_matrix = df.corr()\n"
      ]
    },
    {
      "cell_type": "code",
      "execution_count": null,
      "id": "7a754de7",
      "metadata": {
        "colab": {
          "base_uri": "https://localhost:8080/",
          "height": 699
        },
        "id": "7a754de7",
        "outputId": "442f6960-e405-40a5-974c-759f8d4ec010"
      },
      "outputs": [],
      "source": [
        "\n",
        "plt.figure(figsize=(10, 8))\n",
        "sns.heatmap(correlation_of_matrix, annot=True, cmap='coolwarm', linewidths=.5)\n",
        "plt.title('Correlation_of_Matrix')\n",
        "plt.show()"
      ]
    },
    {
      "cell_type": "code",
      "execution_count": null,
      "id": "48657f2c",
      "metadata": {
        "colab": {
          "base_uri": "https://localhost:8080/"
        },
        "id": "48657f2c",
        "outputId": "f9bacf56-ecdb-4331-e7e0-db6c68340c4f"
      },
      "outputs": [],
      "source": [
        "print(df['CDR'])"
      ]
    },
    {
      "cell_type": "code",
      "execution_count": null,
      "id": "86db147e",
      "metadata": {
        "colab": {
          "base_uri": "https://localhost:8080/",
          "height": 838
        },
        "id": "86db147e",
        "outputId": "77299969-a4f8-4f8a-c327-f8eb7b09202c"
      },
      "outputs": [],
      "source": [
        "model_independant_features = ['Age']\n",
        "My_target_variable = ['CDR']\n",
        "\n",
        "#\n",
        "sns.pairplot(df, x_vars=model_independant_features, y_vars=My_target_variable, kind='scatter', height=8)\n",
        "plt.suptitle(f'Relationships between {My_target_variable} and model_independant_features', y=1.02)\n",
        "plt.show()"
      ]
    },
    {
      "cell_type": "code",
      "execution_count": null,
      "id": "3561c606",
      "metadata": {
        "colab": {
          "base_uri": "https://localhost:8080/",
          "height": 838
        },
        "id": "3561c606",
        "outputId": "aa16f946-7a34-477f-b325-3750048e1685"
      },
      "outputs": [],
      "source": [
        "model_independant_features = ['Educ']\n",
        "My_target_variable = ['CDR']\n",
        "\n",
        "sns.pairplot(df, x_vars=model_independant_features, y_vars=My_target_variable, kind='scatter', height=8)\n",
        "plt.suptitle(f'Relationships between {My_target_variable} and model_independant_features', y=1.02)\n",
        "plt.show()"
      ]
    },
    {
      "cell_type": "code",
      "execution_count": null,
      "id": "11d5bb8f",
      "metadata": {
        "colab": {
          "base_uri": "https://localhost:8080/",
          "height": 838
        },
        "id": "11d5bb8f",
        "outputId": "14a0ef86-29a1-4369-b970-ee0c12d34536"
      },
      "outputs": [],
      "source": [
        "model_independant_features = ['SES']\n",
        "My_target_variable = ['CDR']\n",
        "\n",
        "sns.pairplot(df, x_vars=model_independant_features, y_vars=My_target_variable, kind='scatter', height=8)\n",
        "plt.suptitle(f'Relationships between {My_target_variable} and model_independant_features', y=1.02)\n",
        "plt.show()"
      ]
    },
    {
      "cell_type": "code",
      "execution_count": null,
      "id": "bc11acae",
      "metadata": {
        "colab": {
          "base_uri": "https://localhost:8080/",
          "height": 838
        },
        "id": "bc11acae",
        "outputId": "19b24b9d-8db0-4191-e34a-d3d20fd0be93"
      },
      "outputs": [],
      "source": [
        "model_independant_features = ['MMSE']\n",
        "My_target_variable = ['CDR']\n",
        "\n",
        "sns.pairplot(df, x_vars=model_independant_features, y_vars=My_target_variable, kind='scatter', height=8)\n",
        "plt.suptitle(f'Relationships between {My_target_variable} and model_independant_features', y=1.02)\n",
        "plt.show()"
      ]
    },
    {
      "cell_type": "code",
      "execution_count": null,
      "id": "a6434c95",
      "metadata": {
        "colab": {
          "base_uri": "https://localhost:8080/",
          "height": 838
        },
        "id": "a6434c95",
        "outputId": "318fcf55-ba37-4b19-aa7a-d760ad57f5fe"
      },
      "outputs": [],
      "source": [
        "model_independant_features = ['eTIV']\n",
        "My_target_variable = ['CDR']\n",
        "\n",
        "\n",
        "sns.pairplot(df, x_vars=model_independant_features, y_vars=My_target_variable, kind='scatter', height=8)\n",
        "plt.suptitle(f'Relationships between {My_target_variable} and model_independant_features', y=1.02)\n",
        "plt.show()"
      ]
    },
    {
      "cell_type": "code",
      "execution_count": null,
      "id": "57324b93",
      "metadata": {
        "colab": {
          "base_uri": "https://localhost:8080/",
          "height": 838
        },
        "id": "57324b93",
        "outputId": "0157cec4-e499-407f-a96c-742fb69f501b"
      },
      "outputs": [],
      "source": [
        "model_independant_features = ['nWBV']\n",
        "My_target_variable = ['CDR']\n",
        "\n",
        "sns.pairplot(df, x_vars=model_independant_features, y_vars=My_target_variable, kind='scatter', height=8)\n",
        "plt.suptitle(f'Relationships between {My_target_variable} and model_independant_features', y=1.02)\n",
        "plt.show()"
      ]
    },
    {
      "cell_type": "code",
      "execution_count": null,
      "id": "e01d2d33",
      "metadata": {
        "colab": {
          "base_uri": "https://localhost:8080/"
        },
        "id": "e01d2d33",
        "outputId": "dc82871e-49d5-4605-f281-ebd6e76d0cf9"
      },
      "outputs": [],
      "source": [
        "\n",
        "Req_input_features = ['Age', 'Educ', 'SES', 'MMSE', 'eTIV', 'nWBV', 'ASF']\n",
        "My_target_variable_variable = 'CDR'\n",
        "\n",
        "X = df[Req_input_features]\n",
        "y = df[My_target_variable_variable]\n",
        "\n",
        "X_train, X_test, y_train, y_test = train_test_split(X, y, test_size=0.2, random_state=42)\n",
        "\n",
        "model = LinearRegression()\n",
        "\n",
        "model.fit(X_train, y_train)\n",
        "\n",
        "PREDICTED_Y = model.predict(X_test)\n",
        "\n",
        "mse = mean_squared_error(y_test, PREDICTED_Y)\n",
        "print(f'Mean Squared Error: {mse}')\n",
        "\n",
        "print('Coefficients:', model.coef_)\n",
        "print('Intercept:', model.intercept_)\n"
      ]
    },
    {
      "cell_type": "code",
      "execution_count": null,
      "id": "29bfb5d7",
      "metadata": {
        "colab": {
          "base_uri": "https://localhost:8080/",
          "height": 564
        },
        "id": "29bfb5d7",
        "outputId": "7b6baf2a-c07c-454f-b1b4-369772a88764"
      },
      "outputs": [],
      "source": [
        "plt.figure(figsize=(10, 6))\n",
        "sns.scatterplot(x=y_test, y=PREDICTED_Y)\n",
        "plt.title('Linear Regression: Actual vs. Predicted')\n",
        "plt.xlabel('Actual CDR')\n",
        "plt.ylabel('Predicted CDR')\n",
        "\n",
        "\n",
        "sns.regplot(x=y_test, y=PREDICTED_Y, scatter=False, color='red')\n",
        "\n",
        "plt.show()\n"
      ]
    },
    {
      "cell_type": "code",
      "execution_count": null,
      "id": "ce0c1d74",
      "metadata": {
        "colab": {
          "base_uri": "https://localhost:8080/"
        },
        "id": "ce0c1d74",
        "outputId": "0be544b8-7aa6-4b8a-9b1c-02c5cde36cc4"
      },
      "outputs": [],
      "source": [
        "print(PREDICTED_Y)"
      ]
    },
    {
      "cell_type": "code",
      "execution_count": null,
      "id": "3322e9a0",
      "metadata": {
        "colab": {
          "base_uri": "https://localhost:8080/"
        },
        "id": "3322e9a0",
        "outputId": "92e286aa-426d-4c64-90b0-93d2b3462e84"
      },
      "outputs": [],
      "source": [
        "print(y_test)"
      ]
    },
    {
      "cell_type": "code",
      "execution_count": null,
      "id": "ed77d806",
      "metadata": {
        "colab": {
          "base_uri": "https://localhost:8080/"
        },
        "id": "ed77d806",
        "outputId": "37328673-c949-4304-b665-358a82faa4ed"
      },
      "outputs": [],
      "source": [
        "df.info"
      ]
    },
    {
      "cell_type": "code",
      "execution_count": null,
      "id": "f94ba1d5",
      "metadata": {
        "colab": {
          "base_uri": "https://localhost:8080/",
          "height": 423
        },
        "id": "f94ba1d5",
        "outputId": "cafa3619-7de5-4e03-a78c-fe4b46c615f7"
      },
      "outputs": [],
      "source": [
        "df.head(216)"
      ]
    },
    {
      "cell_type": "code",
      "execution_count": null,
      "id": "Leffujkn8eda",
      "metadata": {
        "colab": {
          "base_uri": "https://localhost:8080/"
        },
        "id": "Leffujkn8eda",
        "outputId": "8c95feaf-1888-4caf-d240-ab03b37d573c"
      },
      "outputs": [],
      "source": [
        "print(df21)\n"
      ]
    },
    {
      "cell_type": "code",
      "execution_count": null,
      "id": "Mz-sbdzXGZzI",
      "metadata": {
        "colab": {
          "base_uri": "https://localhost:8080/"
        },
        "id": "Mz-sbdzXGZzI",
        "outputId": "2fbbe44d-2e4d-4915-dd41-1822dc07defa"
      },
      "outputs": [],
      "source": [
        "print(y)"
      ]
    },
    {
      "cell_type": "code",
      "execution_count": null,
      "id": "oNdQv92S4Dwg",
      "metadata": {
        "colab": {
          "base_uri": "https://localhost:8080/"
        },
        "id": "oNdQv92S4Dwg",
        "outputId": "ed881d78-666e-4351-f832-085e21fa4688"
      },
      "outputs": [],
      "source": [
        "\n",
        "MODEL_Req_input_features = ['Age', 'Educ', 'SES', 'MMSE', 'eTIV', 'nWBV', 'ASF']\n",
        "\n",
        "X = df21[MODEL_Req_input_features]\n",
        "y=((df21['CDR']==0)*1| (df21['CDR']==0.5)*2 |(df21['CDR']>=1)*3)\n",
        "X_train, X_test, y_train, y_test = train_test_split(X, y, test_size=0.2, random_state=42)\n",
        "\n",
        "my_classification_object= DecisionTreeClassifier()\n",
        "\n",
        "\n",
        "my_classification_object.fit(X_train, y_train)\n",
        "\n",
        "\n",
        "PREDICTED_Y = my_classification_object.predict(X_test)\n",
        "\n",
        "\n",
        "accuracy_of_model = accuracy_score(y_test, PREDICTED_Y)\n",
        "classification_report_of_model= classification_report(y_test, PREDICTED_Y)\n",
        "\n",
        "print(f\"accuracy_of_model: {accuracy_of_model:.2f}\")\n",
        "print(\"classification_report_of_model:\\n\",classification_report_of_model)\n",
        "\n",
        "print ('Confusion Matrix :')\n",
        "print(confusion_matrix(y_test, PREDICTED_Y))"
      ]
    },
    {
      "cell_type": "code",
      "execution_count": null,
      "id": "0nPGSNTZJBpn",
      "metadata": {
        "colab": {
          "base_uri": "https://localhost:8080/",
          "height": 1000
        },
        "id": "0nPGSNTZJBpn",
        "outputId": "47b0c30f-9727-4364-9eb4-c34c13fcbe19"
      },
      "outputs": [],
      "source": [
        "\n",
        "My_features = df[['Age', 'Educ', 'SES', 'MMSE', 'eTIV', 'nWBV', 'ASF']]\n",
        "My_target = df['CDR']\n",
        "\n",
        "plt.figure(figsize=(40, 35))\n",
        "plot_tree(my_classification_object, filled=True, feature_names=My_features.columns, class_names=['Class 1', 'Class 2','class 3'], rounded=True)\n",
        "plt.show()"
      ]
    },
    {
      "cell_type": "code",
      "execution_count": null,
      "id": "4VVnYNkW8wbF",
      "metadata": {
        "id": "4VVnYNkW8wbF"
      },
      "outputs": [],
      "source": []
    },
    {
      "cell_type": "code",
      "execution_count": null,
      "id": "9EW5Ytin9RtW",
      "metadata": {
        "id": "9EW5Ytin9RtW"
      },
      "outputs": [],
      "source": []
    }
  ],
  "metadata": {
    "colab": {
      "provenance": []
    },
    "kernelspec": {
      "display_name": "Python 3 (ipykernel)",
      "language": "python",
      "name": "python3"
    },
    "language_info": {
      "codemirror_mode": {
        "name": "ipython",
        "version": 3
      },
      "file_extension": ".py",
      "mimetype": "text/x-python",
      "name": "python",
      "nbconvert_exporter": "python",
      "pygments_lexer": "ipython3",
      "version": "3.11.8"
    }
  },
  "nbformat": 4,
  "nbformat_minor": 5
}
